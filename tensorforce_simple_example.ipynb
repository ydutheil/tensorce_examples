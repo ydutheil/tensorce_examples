{
 "cells": [
  {
   "cell_type": "code",
   "execution_count": 1,
   "metadata": {},
   "outputs": [],
   "source": [
    "import numpy as np\n",
    "import numpy.random as rand\n",
    "\n",
    "from tensorforce.environments import Environment\n",
    "from tensorforce.agents import DQNAgent\n",
    "from tensorforce.execution import Runner"
   ]
  },
  {
   "cell_type": "markdown",
   "metadata": {},
   "source": [
    "This example runs on python 2.7 and most notably tensorforce 0.3.2-5-g8036406\n",
    "This example is derived hevily from tensorforce/examples/quickstart.py\n",
    "\n",
    "We start by setting up the environement. Again we heavily used the examples from tensorforce"
   ]
  },
  {
   "cell_type": "code",
   "execution_count": 2,
   "metadata": {},
   "outputs": [],
   "source": [
    "class MySimpleEnv(Environment):\n",
    "\n",
    "\n",
    "    def __init__(self, hshift_range=[-2,2], start_pos_range=[-2,2], step_size=0.1):\n",
    "\n",
    "        self.hshift_range = hshift_range\n",
    "        self.start_pos_range = start_pos_range\n",
    "        self.step_size = step_size\n",
    "\n",
    "        self.pos_init = rand.uniform(*self.start_pos_range)\n",
    "        self.pos = self.pos_init\n",
    "        self.hshift = rand.uniform(*self.hshift_range)\n",
    "        print '**** initialization done'\n",
    "\n",
    "        while -(self.pos-self.hshift)**2 +10 > 8.0 :\n",
    "            self.pos_init = rand.uniform(*self.start_pos_range)\n",
    "            self.pos = self.pos_init\n",
    "\n",
    "        \n",
    "    def get_env(self):\n",
    "        return self.pos, self.hshift\n",
    "        \n",
    "    def __str__(self):\n",
    "        return 'my stuff __str__'\n",
    "\n",
    "    def reset(self):\n",
    "        print '***** reset of env called'\n",
    "        self.pos_init = rand.uniform(*self.start_pos_range)\n",
    "        self.pos = self.pos_init\n",
    "\n",
    "\n",
    "\n",
    "        self.hshift = rand.uniform(*self.hshift_range)\n",
    "        self.actions_previous = 0\n",
    "\n",
    "\n",
    "        # Here I make sure the initial position is far from the top\n",
    "        while( -(self.pos-self.hshift)**2 +10 > 8.0 and\n",
    "               np.abs(self.pos-self.hshift)<15) :\n",
    "        \n",
    "            self.pos_init = rand.uniform(*self.start_pos_range)\n",
    "            self.pos = self.pos_init\n",
    "\n",
    "\n",
    "        print '*****  state is reset', self.pos\n",
    "        target = -(self.pos-self.hshift)**2 +10\n",
    "        self.target_prev = target\n",
    "        self.target_init = target\n",
    "        return np.array((self.pos, target))\n",
    "\n",
    "    def execute(self, actions):\n",
    "        # action mooves up or down along x by step_size -> +1 or -1\n",
    "\n",
    "        actions_previous = self.actions_previous\n",
    "        self.actions_previous = actions\n",
    "        self.pos_prev = self.pos\n",
    "        if( actions==1):\n",
    "            self.pos += self.step_size\n",
    "        else:\n",
    "            self.pos -= self.step_size\n",
    "        \n",
    "        \n",
    "        target = -(self.pos-self.hshift)**2 +10\n",
    "        if(target < -200) :\n",
    "            print 'killing, reward too bad'\n",
    "            terminal = True\n",
    "            reward = -1\n",
    "        elif( target > 9.8 ) :\n",
    "            print 'killing, reward good engouht', np.abs(self.pos_init - self.hshift)\n",
    "            terminal = True\n",
    "            reward = 10\n",
    "        elif( target > self.target_init and target > self.target_prev):\n",
    "            terminal = False\n",
    "            reward = 0.01\n",
    "        else :\n",
    "            terminal = False\n",
    "            reward = 0\n",
    "\n",
    "        self.target_prev = target\n",
    "        state = np.array((self.pos, target))\n",
    "        return state, terminal, reward\n",
    "    \n",
    "\n",
    "\n",
    "    @property\n",
    "    def states(self):\n",
    "        print '******* states got picked'\n",
    "        return {'shape': (2,), 'type': 'float'}\n",
    "\n",
    "    @property\n",
    "    def actions(self):\n",
    "        print '******* actions got picked'\n",
    "        return {'type': 'int', 'num_actions': 2}\n",
    "\n"
   ]
  },
  {
   "cell_type": "markdown",
   "metadata": {},
   "source": [
    "To be noted is that the states and actions methods provide to tensorforce the way to interact with the environement"
   ]
  },
  {
   "cell_type": "markdown",
   "metadata": {},
   "source": [
    "Here I create my environement"
   ]
  },
  {
   "cell_type": "code",
   "execution_count": 3,
   "metadata": {},
   "outputs": [
    {
     "name": "stdout",
     "output_type": "stream",
     "text": [
      "**** initialization done\n"
     ]
    }
   ],
   "source": [
    "env = MySimpleEnv()"
   ]
  },
  {
   "cell_type": "markdown",
   "metadata": {},
   "source": [
    "Then I setup some things but it's basically copy-paste from tensorforce examples"
   ]
  },
  {
   "cell_type": "code",
   "execution_count": 4,
   "metadata": {},
   "outputs": [
    {
     "name": "stdout",
     "output_type": "stream",
     "text": [
      "******* states got picked\n",
      "******* actions got picked\n"
     ]
    }
   ],
   "source": [
    "network_spec = [\n",
    "    dict(type='dense', size=32, activation='tanh'),\n",
    "    dict(type='dense', size=32, activation='tanh')\n",
    "]\n",
    "\n",
    "agent = DQNAgent(\n",
    "    states_spec=env.states,\n",
    "    actions_spec=env.actions,\n",
    "    network_spec=network_spec,\n",
    "    batch_size=8,\n",
    "    first_update=10,\n",
    "    target_sync_frequency=10\n",
    ")"
   ]
  },
  {
   "cell_type": "markdown",
   "metadata": {},
   "source": [
    "The a runner is created. It is charged to handle the interactions between the agent and the environement"
   ]
  },
  {
   "cell_type": "code",
   "execution_count": 5,
   "metadata": {},
   "outputs": [],
   "source": [
    "runner = Runner(agent=agent, environment=env)"
   ]
  },
  {
   "cell_type": "markdown",
   "metadata": {},
   "source": [
    "a small function that will be called after every episode to give a summary of what happened"
   ]
  },
  {
   "cell_type": "code",
   "execution_count": 6,
   "metadata": {},
   "outputs": [],
   "source": [
    "def episode_finished(r):\n",
    "    print(\"Finished episode {ep} after {ts} timesteps (reward: {reward})\".format(ep=r.episode, ts=r.episode_timestep,\n",
    "                                                                                 reward=r.episode_rewards[-1]))\n",
    "    return True"
   ]
  },
  {
   "cell_type": "markdown",
   "metadata": {},
   "source": [
    "Now we can start the learning"
   ]
  },
  {
   "cell_type": "code",
   "execution_count": 7,
   "metadata": {
    "scrolled": true
   },
   "outputs": [
    {
     "name": "stdout",
     "output_type": "stream",
     "text": [
      "***** reset of env called\n",
      "*****  state is reset 1.3704711474\n",
      "killing, reward good engouht 1.87183069409\n",
      "Finished episode 1 after 153 timesteps (reward: 10.61)\n",
      "***** reset of env called\n",
      "*****  state is reset -1.73128953122\n",
      "killing, reward good engouht 2.19156855071\n",
      "Finished episode 2 after 70 timesteps (reward: 10.37)\n",
      "***** reset of env called\n",
      "*****  state is reset -1.82686329948\n",
      "Finished episode 3 after 201 timesteps (reward: 1.05)\n",
      "***** reset of env called\n",
      "*****  state is reset 0.587868435835\n",
      "Finished episode 4 after 201 timesteps (reward: 0.3)\n",
      "***** reset of env called\n",
      "*****  state is reset -1.8805629577\n",
      "Finished episode 5 after 201 timesteps (reward: 0.79)\n",
      "***** reset of env called\n",
      "*****  state is reset 0.0193700882911\n",
      "killing, reward good engouht 1.68276951164\n",
      "Finished episode 6 after 25 timesteps (reward: 10.16)\n",
      "***** reset of env called\n",
      "*****  state is reset 1.90930736126\n",
      "Finished episode 7 after 201 timesteps (reward: 0.78)\n",
      "***** reset of env called\n",
      "*****  state is reset -1.24416016324\n",
      "Finished episode 8 after 201 timesteps (reward: 0.21)\n",
      "***** reset of env called\n",
      "*****  state is reset 1.84979916655\n",
      "Finished episode 9 after 201 timesteps (reward: 1.1)\n",
      "***** reset of env called\n",
      "*****  state is reset 1.78012901935\n",
      "killing, reward good engouht 2.17848978859\n",
      "Finished episode 10 after 84 timesteps (reward: 10.5)\n",
      "***** reset of env called\n",
      "*****  state is reset 1.63136782098\n",
      "Finished episode 11 after 201 timesteps (reward: 0.7)\n",
      "***** reset of env called\n",
      "*****  state is reset -1.34726754619\n",
      "Finished episode 12 after 201 timesteps (reward: 0.67)\n",
      "***** reset of env called\n",
      "*****  state is reset 1.50660433773\n",
      "killing, reward good engouht 1.68239987697\n",
      "Finished episode 13 after 73 timesteps (reward: 10.41)\n",
      "***** reset of env called\n",
      "*****  state is reset 1.53426062317\n",
      "Finished episode 14 after 201 timesteps (reward: 0.8)\n",
      "***** reset of env called\n",
      "*****  state is reset -0.104853704974\n",
      "Finished episode 15 after 201 timesteps (reward: 0.29)\n",
      "***** reset of env called\n",
      "*****  state is reset 0.747085595479\n",
      "Finished episode 16 after 201 timesteps (reward: 0.79)\n",
      "***** reset of env called\n",
      "*****  state is reset 1.87433553403\n",
      "Finished episode 17 after 201 timesteps (reward: 1.05)\n",
      "***** reset of env called\n",
      "*****  state is reset 0.788923307051\n",
      "Finished episode 18 after 201 timesteps (reward: 0.53)\n",
      "***** reset of env called\n",
      "*****  state is reset -1.90005872222\n",
      "Finished episode 19 after 201 timesteps (reward: 0.68)\n",
      "***** reset of env called\n",
      "*****  state is reset 1.71483520236\n",
      "Finished episode 20 after 201 timesteps (reward: 0.7)\n",
      "***** reset of env called\n",
      "*****  state is reset -1.86483854893\n",
      "Finished episode 21 after 201 timesteps (reward: 0.79)\n",
      "***** reset of env called\n",
      "*****  state is reset -0.725693642143\n",
      "killing, reward good engouht 1.65463415595\n",
      "Finished episode 22 after 191 timesteps (reward: 10.66)\n",
      "***** reset of env called\n",
      "*****  state is reset 1.8390047099\n",
      "Finished episode 23 after 201 timesteps (reward: 0.66)\n",
      "***** reset of env called\n",
      "*****  state is reset -1.97186629283\n",
      "Finished episode 24 after 201 timesteps (reward: 0.14)\n",
      "***** reset of env called\n",
      "*****  state is reset 0.95547908606\n",
      "Finished episode 25 after 201 timesteps (reward: 1.0)\n",
      "***** reset of env called\n",
      "*****  state is reset 0.623186549171\n",
      "Finished episode 26 after 201 timesteps (reward: 0.4)\n",
      "***** reset of env called\n",
      "*****  state is reset -1.40521152452\n",
      "killing, reward good engouht 1.80888783512\n",
      "Finished episode 27 after 156 timesteps (reward: 10.25)\n",
      "***** reset of env called\n",
      "*****  state is reset 1.8712572161\n",
      "Finished episode 28 after 201 timesteps (reward: 1.13)\n",
      "***** reset of env called\n",
      "*****  state is reset 1.83457793332\n",
      "Finished episode 29 after 201 timesteps (reward: 0)\n",
      "***** reset of env called\n",
      "*****  state is reset 1.79791912521\n",
      "killing, reward good engouht 2.38012578505\n",
      "Finished episode 30 after 122 timesteps (reward: 10.7)\n",
      "***** reset of env called\n",
      "*****  state is reset 1.57899926858\n",
      "Finished episode 31 after 201 timesteps (reward: 0.67)\n",
      "***** reset of env called\n",
      "*****  state is reset -1.70634948369\n",
      "Finished episode 32 after 201 timesteps (reward: 1.06)\n",
      "***** reset of env called\n",
      "*****  state is reset -0.75699277678\n",
      "killing, reward good engouht 1.84700538608\n",
      "Finished episode 33 after 114 timesteps (reward: 10.62)\n",
      "***** reset of env called\n",
      "*****  state is reset -1.34822387891\n",
      "Finished episode 34 after 201 timesteps (reward: 0.63)\n",
      "***** reset of env called\n",
      "*****  state is reset 0.506692913033\n",
      "Finished episode 35 after 201 timesteps (reward: 0.5)\n",
      "***** reset of env called\n",
      "*****  state is reset -1.97751981761\n",
      "Finished episode 36 after 201 timesteps (reward: 0.32)\n",
      "***** reset of env called\n",
      "*****  state is reset 0.284617542487\n",
      "Finished episode 37 after 201 timesteps (reward: 0.37)\n",
      "***** reset of env called\n",
      "*****  state is reset -1.99505355453\n",
      "killing, reward good engouht 1.4259075028\n",
      "Finished episode 38 after 60 timesteps (reward: 10.31)\n",
      "***** reset of env called\n",
      "*****  state is reset 0.71402833913\n",
      "Finished episode 39 after 201 timesteps (reward: 0.41)\n",
      "***** reset of env called\n",
      "*****  state is reset -0.701069327243\n",
      "killing, reward good engouht 2.47181185709\n",
      "Finished episode 40 after 95 timesteps (reward: 10.57)\n",
      "***** reset of env called\n",
      "*****  state is reset 1.55989050808\n",
      "killing, reward good engouht 2.36867998036\n",
      "Finished episode 41 after 154 timesteps (reward: 10.6)\n",
      "***** reset of env called\n",
      "*****  state is reset -0.6338340673\n",
      "Finished episode 42 after 201 timesteps (reward: 0.31)\n",
      "***** reset of env called\n",
      "*****  state is reset 1.75257455693\n",
      "Finished episode 43 after 201 timesteps (reward: 1.1)\n",
      "***** reset of env called\n",
      "*****  state is reset -1.1788078765\n",
      "killing, reward good engouht 1.58962602286\n",
      "Finished episode 44 after 56 timesteps (reward: 10.23)\n",
      "***** reset of env called\n",
      "*****  state is reset 1.53681023813\n",
      "Finished episode 45 after 201 timesteps (reward: 0.95)\n",
      "***** reset of env called\n",
      "*****  state is reset -1.8554888981\n",
      "Finished episode 46 after 201 timesteps (reward: 1.05)\n",
      "***** reset of env called\n",
      "*****  state is reset -1.97034929833\n",
      "Finished episode 47 after 201 timesteps (reward: 0.02)\n",
      "***** reset of env called\n",
      "*****  state is reset 1.20281821077\n",
      "killing, reward good engouht 2.42768945881\n",
      "Finished episode 48 after 68 timesteps (reward: 10.43)\n",
      "***** reset of env called\n",
      "*****  state is reset 1.87307888832\n",
      "Finished episode 49 after 201 timesteps (reward: 0.5)\n",
      "***** reset of env called\n",
      "*****  state is reset 1.84840429265\n",
      "Finished episode 50 after 201 timesteps (reward: 0.98)\n"
     ]
    }
   ],
   "source": [
    "runner.run(episodes=50, max_episode_timesteps=200, episode_finished=episode_finished)"
   ]
  },
  {
   "cell_type": "code",
   "execution_count": 8,
   "metadata": {
    "scrolled": false
   },
   "outputs": [
    {
     "data": {
      "text/plain": [
       "[<matplotlib.lines.Line2D at 0x7f87bd247a90>]"
      ]
     },
     "execution_count": 8,
     "metadata": {},
     "output_type": "execute_result"
    }
   ],
   "source": [
    "import matplotlib.pyplot as plt\n",
    "plt.plot(range(len(runner.episode_rewards)), runner.episode_rewards, 'bx')"
   ]
  },
  {
   "cell_type": "code",
   "execution_count": 9,
   "metadata": {},
   "outputs": [
    {
     "data": {
      "image/png": "[encoded data removed]",
      "text/plain": [
       "<matplotlib.figure.Figure at 0x7f87ebc2df10>"
      ]
     },
     "metadata": {},
     "output_type": "display_data"
    }
   ],
   "source": [
    "plt.show()"
   ]
  }
 ],
 "metadata": {
  "kernelspec": {
   "display_name": "Python 2",
   "language": "python",
   "name": "python2"
  },
  "language_info": {
   "codemirror_mode": {
    "name": "ipython",
    "version": 2
   },
   "file_extension": ".py",
   "mimetype": "text/x-python",
   "name": "python",
   "nbconvert_exporter": "python",
   "pygments_lexer": "ipython2",
   "version": "2.7.13"
  }
 },
 "nbformat": 4,
 "nbformat_minor": 2
}
